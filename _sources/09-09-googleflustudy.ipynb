{
 "cells": [
  {
   "cell_type": "markdown",
   "metadata": {},
   "source": [
    "# Forecasting and nowcasting with Google Flu Trends\n",
    "\n",
    "Rather than predicting the future, nowcasting attempts to use ideas from forecasting to measure the current state of the world; it attempts to “predict the present” (Choi and Varian 2012). Nowcasting has the potential to be especially useful to governments and companies that require timely and accurate measures of the world.\n",
    "\n",
    "https://www.bitbybitbook.com/en/1st-ed/observing-behavior/strategies/forecasting/\n",
    "\n",
    "## Predicting the Present with Google Trends\n",
    "\n",
    "HYUNYOUNG CHOI and HAL VARIAN\n",
    "\n",
    "Google, Inc., California, USA\n",
    "\n",
    "> In this paper we show how to use search engine data to forecast near-term values of economic indicators. Examples include automobile sales, unemployment claims, travel destination planning\n",
    "and consumer confidence.\n",
    "\n",
    "Choi, Hyunyoung, and Hal Varian. 2012. “Predicting the Present with Google Trends.” Economic Record 88 (June):2–9. https://doi.org/10.1111/j.1475-4932.2012.00809.x.\n",
    "\n"
   ]
  },
  {
   "attachments": {},
   "cell_type": "markdown",
   "metadata": {},
   "source": [
    "## Detecting influenza epidemics using search engine query data\n",
    "\n",
    "- Jeremy Ginsberg et al. (2009) Detecting influenza epidemics using search engine query data. Nature. 457, pp:1012–1014 https://www.nature.com/articles/nature07634#Ack1 \n",
    "\n",
    "- **Google Query Data** https://static-content.springer.com/esm/art%3A10.1038%2Fnature07634/MediaObjects/41586_2009_BFnature07634_MOESM271_ESM.xls Query fractions for the top 100 search queries, sorted by mean Z-transformed correlation with CDC-provided ILI percentages across the nine regions of the United States. (XLS 5264 kb)\n",
    "\n",
    "- **CDC’s ILI Data**. We use the weighted version of CDC’s ILI activity level as the estimation target (available at gis.cdc.gov/grasp/fluview/fluportaldashboard.html). The weekly revisions of CDC’s ILI are available at the CDC website for all recorded seasons (from week 40 of a given year to week 20 of the subsequent year). Click **Download Data** to get the data.\n",
    "\n",
    "![image.png](./img/09CDC.png)\n",
    "\n",
    "For example, ILI report revision at week 50 of season 2012–2013 is available at www.cdc.gov/flu/weekly/weeklyarchives2012-2013/data/senAllregt50.htm; ILI report revision at week 9 of season 2014–2015 is available at www.cdc.gov/flu/weekly/weeklyarchives2014-2015/data/senAllregt09.html.\n"
   ]
  },
  {
   "cell_type": "code",
   "execution_count": 101,
   "metadata": {
    "ExecuteTime": {
     "end_time": "2021-02-23T05:58:31.335729Z",
     "start_time": "2021-02-23T05:58:31.331731Z"
    }
   },
   "outputs": [],
   "source": [
    "import pandas as pd\n",
    "import matplotlib.pyplot as plt\n",
    "import numpy as np\n",
    "from sklearn.metrics import r2_score\n",
    "from sklearn.metrics import mean_squared_error\n",
    "from sklearn.model_selection import train_test_split\n",
    "from sklearn.linear_model import ElasticNetCV, ElasticNet\n",
    "from sklearn.model_selection import RandomizedSearchCV\n",
    "from sklearn.model_selection import StratifiedKFold"
   ]
  },
  {
   "cell_type": "code",
   "execution_count": 42,
   "metadata": {
    "ExecuteTime": {
     "end_time": "2021-02-23T04:54:02.340478Z",
     "start_time": "2021-02-23T04:54:01.713935Z"
    }
   },
   "outputs": [
    {
     "data": {
      "text/html": [
       "<div>\n",
       "<style scoped>\n",
       "    .dataframe tbody tr th:only-of-type {\n",
       "        vertical-align: middle;\n",
       "    }\n",
       "\n",
       "    .dataframe tbody tr th {\n",
       "        vertical-align: top;\n",
       "    }\n",
       "\n",
       "    .dataframe thead th {\n",
       "        text-align: right;\n",
       "    }\n",
       "</style>\n",
       "<table border=\"1\" class=\"dataframe\">\n",
       "  <thead>\n",
       "    <tr style=\"text-align: right;\">\n",
       "      <th></th>\n",
       "      <th>Date</th>\n",
       "      <th>United States</th>\n",
       "      <th>New England Region</th>\n",
       "      <th>Mid-Atlantic Region</th>\n",
       "      <th>East North Central Region</th>\n",
       "      <th>West North Central Region</th>\n",
       "      <th>South Atlantic Region</th>\n",
       "      <th>East South Central Region</th>\n",
       "      <th>West South Central Region</th>\n",
       "      <th>Mountain Region</th>\n",
       "      <th>Pacific Region</th>\n",
       "    </tr>\n",
       "  </thead>\n",
       "  <tbody>\n",
       "    <tr>\n",
       "      <th>0</th>\n",
       "      <td>2003-06-01</td>\n",
       "      <td>0.778</td>\n",
       "      <td>0.979</td>\n",
       "      <td>0.990</td>\n",
       "      <td>0.838</td>\n",
       "      <td>0.673</td>\n",
       "      <td>0.732</td>\n",
       "      <td>0.922</td>\n",
       "      <td>0.809</td>\n",
       "      <td>0.486</td>\n",
       "      <td>0.621</td>\n",
       "    </tr>\n",
       "    <tr>\n",
       "      <th>1</th>\n",
       "      <td>2003-06-08</td>\n",
       "      <td>0.850</td>\n",
       "      <td>0.932</td>\n",
       "      <td>0.806</td>\n",
       "      <td>0.879</td>\n",
       "      <td>0.839</td>\n",
       "      <td>0.852</td>\n",
       "      <td>0.479</td>\n",
       "      <td>0.800</td>\n",
       "      <td>1.383</td>\n",
       "      <td>1.008</td>\n",
       "    </tr>\n",
       "    <tr>\n",
       "      <th>2</th>\n",
       "      <td>2003-06-15</td>\n",
       "      <td>0.838</td>\n",
       "      <td>1.018</td>\n",
       "      <td>0.892</td>\n",
       "      <td>0.839</td>\n",
       "      <td>0.568</td>\n",
       "      <td>0.751</td>\n",
       "      <td>1.130</td>\n",
       "      <td>1.111</td>\n",
       "      <td>0.702</td>\n",
       "      <td>0.777</td>\n",
       "    </tr>\n",
       "    <tr>\n",
       "      <th>3</th>\n",
       "      <td>2003-06-22</td>\n",
       "      <td>0.828</td>\n",
       "      <td>0.615</td>\n",
       "      <td>1.149</td>\n",
       "      <td>0.676</td>\n",
       "      <td>0.730</td>\n",
       "      <td>0.867</td>\n",
       "      <td>1.149</td>\n",
       "      <td>0.498</td>\n",
       "      <td>0.936</td>\n",
       "      <td>0.734</td>\n",
       "    </tr>\n",
       "    <tr>\n",
       "      <th>4</th>\n",
       "      <td>2003-06-29</td>\n",
       "      <td>0.747</td>\n",
       "      <td>0.896</td>\n",
       "      <td>0.768</td>\n",
       "      <td>0.829</td>\n",
       "      <td>0.612</td>\n",
       "      <td>0.530</td>\n",
       "      <td>0.854</td>\n",
       "      <td>0.491</td>\n",
       "      <td>1.081</td>\n",
       "      <td>1.015</td>\n",
       "    </tr>\n",
       "  </tbody>\n",
       "</table>\n",
       "</div>"
      ],
      "text/plain": [
       "         Date  United States  New England Region  Mid-Atlantic Region  \\\n",
       "0  2003-06-01          0.778               0.979                0.990   \n",
       "1  2003-06-08          0.850               0.932                0.806   \n",
       "2  2003-06-15          0.838               1.018                0.892   \n",
       "3  2003-06-22          0.828               0.615                1.149   \n",
       "4  2003-06-29          0.747               0.896                0.768   \n",
       "\n",
       "   East North Central Region  West North Central Region  \\\n",
       "0                      0.838                      0.673   \n",
       "1                      0.879                      0.839   \n",
       "2                      0.839                      0.568   \n",
       "3                      0.676                      0.730   \n",
       "4                      0.829                      0.612   \n",
       "\n",
       "   South Atlantic Region  East South Central Region  \\\n",
       "0                  0.732                      0.922   \n",
       "1                  0.852                      0.479   \n",
       "2                  0.751                      1.130   \n",
       "3                  0.867                      1.149   \n",
       "4                  0.530                      0.854   \n",
       "\n",
       "   West South Central Region  Mountain Region  Pacific Region  \n",
       "0                      0.809            0.486           0.621  \n",
       "1                      0.800            1.383           1.008  \n",
       "2                      1.111            0.702           0.777  \n",
       "3                      0.498            0.936           0.734  \n",
       "4                      0.491            1.081           1.015  "
      ]
     },
     "execution_count": 42,
     "metadata": {},
     "output_type": "execute_result"
    }
   ],
   "source": [
    "df = pd.read_excel('41586_2009_BFnature07634_MOESM271_ESM.xls', sheet_name=1, header = 1)\n",
    "df.head()"
   ]
  },
  {
   "cell_type": "code",
   "execution_count": 22,
   "metadata": {
    "ExecuteTime": {
     "end_time": "2021-02-23T04:29:08.728063Z",
     "start_time": "2021-02-23T04:29:08.621990Z"
    }
   },
   "outputs": [
    {
     "data": {
      "image/png": "[encoded data removed]",
      "text/plain": [
       "<Figure size 432x288 with 1 Axes>"
      ]
     },
     "metadata": {
      "needs_background": "light"
     },
     "output_type": "display_data"
    }
   ],
   "source": [
    "plt.plot(df['Date'], df['United States']);"
   ]
  },
  {
   "cell_type": "code",
   "execution_count": 23,
   "metadata": {
    "ExecuteTime": {
     "end_time": "2021-02-23T04:29:36.055512Z",
     "start_time": "2021-02-23T04:29:35.949263Z"
    }
   },
   "outputs": [
    {
     "data": {
      "image/png": "[encoded data removed]",
      "text/plain": [
       "<Figure size 432x288 with 1 Axes>"
      ]
     },
     "metadata": {
      "needs_background": "light"
     },
     "output_type": "display_data"
    }
   ],
   "source": [
    "plt.plot(df['Date'], df['Mid-Atlantic Region']);"
   ]
  },
  {
   "attachments": {},
   "cell_type": "markdown",
   "metadata": {
    "ExecuteTime": {
     "end_time": "2021-02-23T04:18:41.205969Z",
     "start_time": "2021-02-23T04:18:41.184275Z"
    }
   },
   "source": [
    "Figure 1: An evaluation of how many top-scoring queries to include in the ILI-related query fraction.\n",
    "\n",
    "![image.png](./img/09gft1.png)\n",
    "\n",
    "Maximal performance at estimating out-of-sample points during cross-validation was obtained by summing the top 45 search queries. A steep drop in model performance occurs after adding query 81, which is ‘oscar nominations’."
   ]
  },
  {
   "cell_type": "code",
   "execution_count": 43,
   "metadata": {
    "ExecuteTime": {
     "end_time": "2021-02-23T04:55:19.600137Z",
     "start_time": "2021-02-23T04:54:52.270573Z"
    }
   },
   "outputs": [
    {
     "data": {
      "text/html": [
       "<div>\n",
       "<style scoped>\n",
       "    .dataframe tbody tr th:only-of-type {\n",
       "        vertical-align: middle;\n",
       "    }\n",
       "\n",
       "    .dataframe tbody tr th {\n",
       "        vertical-align: top;\n",
       "    }\n",
       "\n",
       "    .dataframe thead th {\n",
       "        text-align: right;\n",
       "    }\n",
       "</style>\n",
       "<table border=\"1\" class=\"dataframe\">\n",
       "  <thead>\n",
       "    <tr style=\"text-align: right;\">\n",
       "      <th></th>\n",
       "      <th>date</th>\n",
       "      <th>query1</th>\n",
       "      <th>query2</th>\n",
       "      <th>query3</th>\n",
       "      <th>query4</th>\n",
       "      <th>query5</th>\n",
       "      <th>query6</th>\n",
       "      <th>query7</th>\n",
       "      <th>query8</th>\n",
       "      <th>query9</th>\n",
       "      <th>...</th>\n",
       "      <th>query36</th>\n",
       "      <th>query37</th>\n",
       "      <th>query38</th>\n",
       "      <th>query39</th>\n",
       "      <th>query40</th>\n",
       "      <th>query41</th>\n",
       "      <th>query42</th>\n",
       "      <th>query43</th>\n",
       "      <th>query44</th>\n",
       "      <th>query45</th>\n",
       "    </tr>\n",
       "  </thead>\n",
       "  <tbody>\n",
       "    <tr>\n",
       "      <th>0</th>\n",
       "      <td>2003-06-01</td>\n",
       "      <td>0.778</td>\n",
       "      <td>5.297</td>\n",
       "      <td>6.096</td>\n",
       "      <td>0.893</td>\n",
       "      <td>1.036</td>\n",
       "      <td>1.357</td>\n",
       "      <td>0.124</td>\n",
       "      <td>0.366</td>\n",
       "      <td>0.675</td>\n",
       "      <td>...</td>\n",
       "      <td>0.483</td>\n",
       "      <td>0.131</td>\n",
       "      <td>0.633</td>\n",
       "      <td>0.173</td>\n",
       "      <td>0.241</td>\n",
       "      <td>0.848</td>\n",
       "      <td>0.138</td>\n",
       "      <td>0.190</td>\n",
       "      <td>2.027</td>\n",
       "      <td>2.133</td>\n",
       "    </tr>\n",
       "    <tr>\n",
       "      <th>1</th>\n",
       "      <td>2003-06-08</td>\n",
       "      <td>0.850</td>\n",
       "      <td>5.348</td>\n",
       "      <td>6.097</td>\n",
       "      <td>1.005</td>\n",
       "      <td>0.899</td>\n",
       "      <td>1.584</td>\n",
       "      <td>0.096</td>\n",
       "      <td>0.432</td>\n",
       "      <td>0.574</td>\n",
       "      <td>...</td>\n",
       "      <td>0.527</td>\n",
       "      <td>0.178</td>\n",
       "      <td>0.716</td>\n",
       "      <td>0.227</td>\n",
       "      <td>0.257</td>\n",
       "      <td>1.153</td>\n",
       "      <td>0.145</td>\n",
       "      <td>0.164</td>\n",
       "      <td>2.245</td>\n",
       "      <td>2.335</td>\n",
       "    </tr>\n",
       "    <tr>\n",
       "      <th>2</th>\n",
       "      <td>2003-06-15</td>\n",
       "      <td>0.838</td>\n",
       "      <td>4.961</td>\n",
       "      <td>5.772</td>\n",
       "      <td>0.868</td>\n",
       "      <td>0.811</td>\n",
       "      <td>1.515</td>\n",
       "      <td>0.084</td>\n",
       "      <td>0.392</td>\n",
       "      <td>0.563</td>\n",
       "      <td>...</td>\n",
       "      <td>0.509</td>\n",
       "      <td>0.156</td>\n",
       "      <td>0.760</td>\n",
       "      <td>0.213</td>\n",
       "      <td>0.234</td>\n",
       "      <td>1.123</td>\n",
       "      <td>0.138</td>\n",
       "      <td>0.213</td>\n",
       "      <td>2.338</td>\n",
       "      <td>2.311</td>\n",
       "    </tr>\n",
       "    <tr>\n",
       "      <th>3</th>\n",
       "      <td>2003-06-22</td>\n",
       "      <td>0.828</td>\n",
       "      <td>4.480</td>\n",
       "      <td>5.140</td>\n",
       "      <td>0.733</td>\n",
       "      <td>0.883</td>\n",
       "      <td>1.942</td>\n",
       "      <td>0.052</td>\n",
       "      <td>0.326</td>\n",
       "      <td>0.478</td>\n",
       "      <td>...</td>\n",
       "      <td>0.417</td>\n",
       "      <td>0.128</td>\n",
       "      <td>0.715</td>\n",
       "      <td>0.198</td>\n",
       "      <td>0.192</td>\n",
       "      <td>1.220</td>\n",
       "      <td>0.146</td>\n",
       "      <td>0.198</td>\n",
       "      <td>2.231</td>\n",
       "      <td>2.237</td>\n",
       "    </tr>\n",
       "    <tr>\n",
       "      <th>4</th>\n",
       "      <td>2003-06-29</td>\n",
       "      <td>0.747</td>\n",
       "      <td>3.910</td>\n",
       "      <td>4.409</td>\n",
       "      <td>0.637</td>\n",
       "      <td>0.726</td>\n",
       "      <td>1.580</td>\n",
       "      <td>0.049</td>\n",
       "      <td>0.352</td>\n",
       "      <td>0.364</td>\n",
       "      <td>...</td>\n",
       "      <td>0.429</td>\n",
       "      <td>0.080</td>\n",
       "      <td>0.671</td>\n",
       "      <td>0.150</td>\n",
       "      <td>0.153</td>\n",
       "      <td>1.114</td>\n",
       "      <td>0.138</td>\n",
       "      <td>0.165</td>\n",
       "      <td>2.005</td>\n",
       "      <td>2.085</td>\n",
       "    </tr>\n",
       "  </tbody>\n",
       "</table>\n",
       "<p>5 rows × 46 columns</p>\n",
       "</div>"
      ],
      "text/plain": [
       "         date  query1  query2  query3  query4  query5  query6  query7  query8  \\\n",
       "0  2003-06-01   0.778   5.297   6.096   0.893   1.036   1.357   0.124   0.366   \n",
       "1  2003-06-08   0.850   5.348   6.097   1.005   0.899   1.584   0.096   0.432   \n",
       "2  2003-06-15   0.838   4.961   5.772   0.868   0.811   1.515   0.084   0.392   \n",
       "3  2003-06-22   0.828   4.480   5.140   0.733   0.883   1.942   0.052   0.326   \n",
       "4  2003-06-29   0.747   3.910   4.409   0.637   0.726   1.580   0.049   0.352   \n",
       "\n",
       "   query9  ...  query36  query37  query38  query39  query40  query41  query42  \\\n",
       "0   0.675  ...    0.483    0.131    0.633    0.173    0.241    0.848    0.138   \n",
       "1   0.574  ...    0.527    0.178    0.716    0.227    0.257    1.153    0.145   \n",
       "2   0.563  ...    0.509    0.156    0.760    0.213    0.234    1.123    0.138   \n",
       "3   0.478  ...    0.417    0.128    0.715    0.198    0.192    1.220    0.146   \n",
       "4   0.364  ...    0.429    0.080    0.671    0.150    0.153    1.114    0.138   \n",
       "\n",
       "   query43  query44  query45  \n",
       "0    0.190    2.027    2.133  \n",
       "1    0.164    2.245    2.335  \n",
       "2    0.213    2.338    2.311  \n",
       "3    0.198    2.231    2.237  \n",
       "4    0.165    2.005    2.085  \n",
       "\n",
       "[5 rows x 46 columns]"
      ]
     },
     "execution_count": 43,
     "metadata": {},
     "output_type": "execute_result"
    }
   ],
   "source": [
    "# Combine 45 queries\n",
    "dict = {'date': df['Date'].tolist()}\n",
    "for i in range(1, 46):\n",
    "    df = pd.read_excel('41586_2009_BFnature07634_MOESM271_ESM.xls', sheet_name=i, header = 1)\n",
    "    dict['query'+str(i)] = df['United States'].tolist()\n",
    "dat = pd.DataFrame.from_dict(dict)\n",
    "dat.head()"
   ]
  },
  {
   "cell_type": "markdown",
   "metadata": {},
   "source": [
    "## The Parable of Google Flu: Traps in Big Data Analysis\n",
    "\n",
    "David Lazer*, Ryan Kennedy, Gary King, Alessandro Vespignani\n",
    "\n",
    "\n",
    "Science 14 Mar 2014: Vol. 343, Issue 6176, pp. 1203-1205 DOI: 10.1126/science.1248506\n",
    "\n",
    "In February 2013, Google Flu Trends (GFT) made headlines but not for a reason that Google executives or the creators of the flu tracking system would have hoped. Nature reported that GFT was predicting more than double the proportion of doctor visits for influenza-like illness (ILI) than the Centers for Disease Control and Prevention (CDC), which bases its estimates on surveillance reports from laboratories across the United States (1, 2). This happened despite the fact that GFT was built to predict CDC reports. Given that GFT is often held up as an exemplary use of big data (3, 4), what lessons can we draw from this error?\n",
    "\n",
    "https://science.sciencemag.org/content/343/6176/1203.summary\n",
    "\n",
    "**Data & Code**\n",
    "\n",
    "https://science.sciencemag.org/content/sci/suppl/2014/03/12/343.6176.1203.DC1/1248506.Lazer.SM.revision1.pdf\n",
    "\n",
    "\n",
    "Lazer, David; Kennedy, Ryan; King, Gary; Vespignani, Alessandro, 2014, \"Replication data for: The Parable of Google Flu: Traps in Big Data Analysis\", https://doi.org/10.7910/DVN/24823, Harvard Dataverse"
   ]
  },
  {
   "cell_type": "code",
   "execution_count": 51,
   "metadata": {
    "ExecuteTime": {
     "end_time": "2021-02-23T05:01:15.535135Z",
     "start_time": "2021-02-23T05:01:15.510399Z"
    }
   },
   "outputs": [
    {
     "data": {
      "text/html": [
       "<div>\n",
       "<style scoped>\n",
       "    .dataframe tbody tr th:only-of-type {\n",
       "        vertical-align: middle;\n",
       "    }\n",
       "\n",
       "    .dataframe tbody tr th {\n",
       "        vertical-align: top;\n",
       "    }\n",
       "\n",
       "    .dataframe thead th {\n",
       "        text-align: right;\n",
       "    }\n",
       "</style>\n",
       "<table border=\"1\" class=\"dataframe\">\n",
       "  <thead>\n",
       "    <tr style=\"text-align: right;\">\n",
       "      <th></th>\n",
       "      <th>date</th>\n",
       "      <th>query1</th>\n",
       "      <th>query2</th>\n",
       "      <th>query3</th>\n",
       "      <th>query4</th>\n",
       "      <th>query5</th>\n",
       "      <th>query6</th>\n",
       "      <th>query7</th>\n",
       "      <th>query8</th>\n",
       "      <th>query9</th>\n",
       "      <th>...</th>\n",
       "      <th>query37</th>\n",
       "      <th>query38</th>\n",
       "      <th>query39</th>\n",
       "      <th>query40</th>\n",
       "      <th>query41</th>\n",
       "      <th>query42</th>\n",
       "      <th>query43</th>\n",
       "      <th>query44</th>\n",
       "      <th>query45</th>\n",
       "      <th>cflu</th>\n",
       "    </tr>\n",
       "  </thead>\n",
       "  <tbody>\n",
       "    <tr>\n",
       "      <th>0</th>\n",
       "      <td>2003-09-28</td>\n",
       "      <td>1.853</td>\n",
       "      <td>6.679</td>\n",
       "      <td>7.824</td>\n",
       "      <td>1.072</td>\n",
       "      <td>2.399</td>\n",
       "      <td>1.623</td>\n",
       "      <td>0.162</td>\n",
       "      <td>0.606</td>\n",
       "      <td>0.731</td>\n",
       "      <td>...</td>\n",
       "      <td>0.224</td>\n",
       "      <td>0.741</td>\n",
       "      <td>0.324</td>\n",
       "      <td>0.496</td>\n",
       "      <td>1.267</td>\n",
       "      <td>0.294</td>\n",
       "      <td>0.204</td>\n",
       "      <td>2.097</td>\n",
       "      <td>2.905</td>\n",
       "      <td>0.884021</td>\n",
       "    </tr>\n",
       "    <tr>\n",
       "      <th>1</th>\n",
       "      <td>2003-10-05</td>\n",
       "      <td>1.976</td>\n",
       "      <td>6.310</td>\n",
       "      <td>8.259</td>\n",
       "      <td>1.194</td>\n",
       "      <td>2.733</td>\n",
       "      <td>1.589</td>\n",
       "      <td>0.167</td>\n",
       "      <td>0.607</td>\n",
       "      <td>0.662</td>\n",
       "      <td>...</td>\n",
       "      <td>0.210</td>\n",
       "      <td>0.852</td>\n",
       "      <td>0.295</td>\n",
       "      <td>0.442</td>\n",
       "      <td>1.329</td>\n",
       "      <td>0.322</td>\n",
       "      <td>0.225</td>\n",
       "      <td>2.233</td>\n",
       "      <td>2.713</td>\n",
       "      <td>1.027731</td>\n",
       "    </tr>\n",
       "    <tr>\n",
       "      <th>2</th>\n",
       "      <td>2003-10-12</td>\n",
       "      <td>2.834</td>\n",
       "      <td>6.911</td>\n",
       "      <td>9.009</td>\n",
       "      <td>1.228</td>\n",
       "      <td>3.304</td>\n",
       "      <td>1.581</td>\n",
       "      <td>0.221</td>\n",
       "      <td>0.664</td>\n",
       "      <td>0.783</td>\n",
       "      <td>...</td>\n",
       "      <td>0.259</td>\n",
       "      <td>0.890</td>\n",
       "      <td>0.306</td>\n",
       "      <td>0.413</td>\n",
       "      <td>1.392</td>\n",
       "      <td>0.353</td>\n",
       "      <td>0.201</td>\n",
       "      <td>2.305</td>\n",
       "      <td>2.874</td>\n",
       "      <td>1.282964</td>\n",
       "    </tr>\n",
       "    <tr>\n",
       "      <th>3</th>\n",
       "      <td>2003-10-19</td>\n",
       "      <td>3.501</td>\n",
       "      <td>7.492</td>\n",
       "      <td>9.611</td>\n",
       "      <td>1.291</td>\n",
       "      <td>3.846</td>\n",
       "      <td>1.619</td>\n",
       "      <td>0.326</td>\n",
       "      <td>0.698</td>\n",
       "      <td>0.841</td>\n",
       "      <td>...</td>\n",
       "      <td>0.260</td>\n",
       "      <td>0.900</td>\n",
       "      <td>0.352</td>\n",
       "      <td>0.450</td>\n",
       "      <td>1.357</td>\n",
       "      <td>0.383</td>\n",
       "      <td>0.255</td>\n",
       "      <td>2.279</td>\n",
       "      <td>2.965</td>\n",
       "      <td>1.326605</td>\n",
       "    </tr>\n",
       "    <tr>\n",
       "      <th>4</th>\n",
       "      <td>2003-10-26</td>\n",
       "      <td>3.721</td>\n",
       "      <td>7.121</td>\n",
       "      <td>9.352</td>\n",
       "      <td>1.309</td>\n",
       "      <td>3.876</td>\n",
       "      <td>1.640</td>\n",
       "      <td>0.288</td>\n",
       "      <td>0.674</td>\n",
       "      <td>0.762</td>\n",
       "      <td>...</td>\n",
       "      <td>0.260</td>\n",
       "      <td>0.950</td>\n",
       "      <td>0.293</td>\n",
       "      <td>0.393</td>\n",
       "      <td>1.367</td>\n",
       "      <td>0.319</td>\n",
       "      <td>0.271</td>\n",
       "      <td>2.317</td>\n",
       "      <td>2.986</td>\n",
       "      <td>1.773040</td>\n",
       "    </tr>\n",
       "  </tbody>\n",
       "</table>\n",
       "<p>5 rows × 47 columns</p>\n",
       "</div>"
      ],
      "text/plain": [
       "         date  query1  query2  query3  query4  query5  query6  query7  query8  \\\n",
       "0  2003-09-28   1.853   6.679   7.824   1.072   2.399   1.623   0.162   0.606   \n",
       "1  2003-10-05   1.976   6.310   8.259   1.194   2.733   1.589   0.167   0.607   \n",
       "2  2003-10-12   2.834   6.911   9.009   1.228   3.304   1.581   0.221   0.664   \n",
       "3  2003-10-19   3.501   7.492   9.611   1.291   3.846   1.619   0.326   0.698   \n",
       "4  2003-10-26   3.721   7.121   9.352   1.309   3.876   1.640   0.288   0.674   \n",
       "\n",
       "   query9  ...  query37  query38  query39  query40  query41  query42  query43  \\\n",
       "0   0.731  ...    0.224    0.741    0.324    0.496    1.267    0.294    0.204   \n",
       "1   0.662  ...    0.210    0.852    0.295    0.442    1.329    0.322    0.225   \n",
       "2   0.783  ...    0.259    0.890    0.306    0.413    1.392    0.353    0.201   \n",
       "3   0.841  ...    0.260    0.900    0.352    0.450    1.357    0.383    0.255   \n",
       "4   0.762  ...    0.260    0.950    0.293    0.393    1.367    0.319    0.271   \n",
       "\n",
       "   query44  query45      cflu  \n",
       "0    2.097    2.905  0.884021  \n",
       "1    2.233    2.713  1.027731  \n",
       "2    2.305    2.874  1.282964  \n",
       "3    2.279    2.965  1.326605  \n",
       "4    2.317    2.986  1.773040  \n",
       "\n",
       "[5 rows x 47 columns]"
      ]
     },
     "execution_count": 51,
     "metadata": {},
     "output_type": "execute_result"
    }
   ],
   "source": [
    "# merge the ILI data\n",
    "# cflu is CDC % ILI\n",
    "dat2 = pd.read_csv('../GFT2.0/parable/ParableOfGFT(Replication).csv')\n",
    "dat3 = dat2[['date', 'cflu']]\n",
    "data = pd.merge(dat, dat3, how='right', on='date')\n",
    "data.head()"
   ]
  },
  {
   "cell_type": "code",
   "execution_count": 89,
   "metadata": {
    "ExecuteTime": {
     "end_time": "2021-02-23T05:19:50.372566Z",
     "start_time": "2021-02-23T05:19:50.358642Z"
    }
   },
   "outputs": [],
   "source": [
    "#data.to_csv('gft_ili_us.csv', index = False)"
   ]
  },
  {
   "cell_type": "code",
   "execution_count": 81,
   "metadata": {
    "ExecuteTime": {
     "end_time": "2021-02-23T05:15:37.048038Z",
     "start_time": "2021-02-23T05:15:37.038628Z"
    }
   },
   "outputs": [],
   "source": [
    "# filter data\n",
    "data = data[data['query1'].notna()]\n",
    "data['date'] = pd.to_datetime(data['date'])\n",
    "data['date'] = data['date'].dt.date"
   ]
  },
  {
   "cell_type": "code",
   "execution_count": 85,
   "metadata": {
    "ExecuteTime": {
     "end_time": "2021-02-23T05:17:30.809667Z",
     "start_time": "2021-02-23T05:17:30.666108Z"
    }
   },
   "outputs": [
    {
     "data": {
      "image/png": "[encoded data removed]",
      "text/plain": [
       "<Figure size 432x288 with 1 Axes>"
      ]
     },
     "metadata": {
      "needs_background": "light"
     },
     "output_type": "display_data"
    }
   ],
   "source": [
    "plt.plot(data['date'], data['query1'], label = 'query1')\n",
    "plt.plot(data['date'], data['query2'], label = 'query2')\n",
    "plt.plot(data['date'], data['query3'], label = 'query3')\n",
    "plt.plot(data['date'], data['cflu'],  label = 'CDC ILI')\n",
    "plt.legend()\n",
    "plt.show()\n"
   ]
  },
  {
   "attachments": {},
   "cell_type": "markdown",
   "metadata": {},
   "source": [
    "Using this ILI-related query fraction as the explanatory variable, we fit a final linear model to weekly ILI percentages between 2003 and 2007 for all nine regions together, thus obtaining a single, region-independent coefficient. The model was able to obtain a good fit with CDC-reported ILI percentages, with a mean correlation of 0.90 (min = 0.80, max = 0.96, n = 9 regions; Fig. 2).\n",
    "\n",
    "**Figure 2**: A comparison of model estimates for the mid-Atlantic region (black) against CDC-reported ILI percentages (red), including points over which the model was fit and validated.\n",
    "\n",
    "![image.png](./img/09gft2.png)\n",
    "\n",
    "A correlation of 0.85 was obtained over 128 points from this region to which the model was fit, whereas a correlation of 0.96 was obtained over 42 validation points. Dotted lines indicate 95% prediction intervals. The region comprises New York, New Jersey and Pennsylvania."
   ]
  },
  {
   "attachments": {},
   "cell_type": "markdown",
   "metadata": {},
   "source": [
    "**Figure 3**: ILI percentages estimated by our model (black) and provided by the CDC (red) in the **mid-Atlantic region**, showing data available at four points in the 2007-2008 influenza season.\n",
    "\n",
    "![image.png](./img/09gft3.png)"
   ]
  },
  {
   "cell_type": "code",
   "execution_count": 90,
   "metadata": {
    "ExecuteTime": {
     "end_time": "2021-02-23T05:52:42.296353Z",
     "start_time": "2021-02-23T05:52:42.285525Z"
    }
   },
   "outputs": [
    {
     "name": "stdout",
     "output_type": "stream",
     "text": [
      "done\n"
     ]
    }
   ],
   "source": [
    "for i in range(1, 8):\n",
    "    data[\"lag_{}\".format(i)] = data['cflu'].shift(i)\n",
    "print(\"done\")\n",
    "data=data.fillna(0)"
   ]
  },
  {
   "cell_type": "code",
   "execution_count": 131,
   "metadata": {
    "ExecuteTime": {
     "end_time": "2021-02-23T06:10:15.443855Z",
     "start_time": "2021-02-23T06:10:15.440188Z"
    }
   },
   "outputs": [],
   "source": [
    "y = data['cflu']\n",
    "date = data['date']\n",
    "X = data.drop(['cflu', 'date'], axis = 1)"
   ]
  },
  {
   "cell_type": "code",
   "execution_count": 96,
   "metadata": {
    "ExecuteTime": {
     "end_time": "2021-02-23T05:56:18.565470Z",
     "start_time": "2021-02-23T05:56:18.561045Z"
    }
   },
   "outputs": [
    {
     "data": {
      "text/plain": [
       "242"
      ]
     },
     "execution_count": 96,
     "metadata": {},
     "output_type": "execute_result"
    }
   ],
   "source": [
    "len(y)"
   ]
  },
  {
   "cell_type": "code",
   "execution_count": 132,
   "metadata": {
    "ExecuteTime": {
     "end_time": "2021-02-23T06:10:21.993297Z",
     "start_time": "2021-02-23T06:10:21.987554Z"
    }
   },
   "outputs": [
    {
     "data": {
      "text/plain": [
       "0      0.884021\n",
       "1      1.027731\n",
       "2      1.282964\n",
       "3      1.326605\n",
       "4      1.773040\n",
       "         ...   \n",
       "237    1.165197\n",
       "238    1.020348\n",
       "239    0.877607\n",
       "240    0.825107\n",
       "241    0.787315\n",
       "Name: cflu, Length: 242, dtype: float64"
      ]
     },
     "execution_count": 132,
     "metadata": {},
     "output_type": "execute_result"
    }
   ],
   "source": [
    "y"
   ]
  },
  {
   "cell_type": "code",
   "execution_count": 133,
   "metadata": {
    "ExecuteTime": {
     "end_time": "2021-02-23T06:10:29.531513Z",
     "start_time": "2021-02-23T06:10:29.503369Z"
    }
   },
   "outputs": [
    {
     "data": {
      "text/html": [
       "<div>\n",
       "<style scoped>\n",
       "    .dataframe tbody tr th:only-of-type {\n",
       "        vertical-align: middle;\n",
       "    }\n",
       "\n",
       "    .dataframe tbody tr th {\n",
       "        vertical-align: top;\n",
       "    }\n",
       "\n",
       "    .dataframe thead th {\n",
       "        text-align: right;\n",
       "    }\n",
       "</style>\n",
       "<table border=\"1\" class=\"dataframe\">\n",
       "  <thead>\n",
       "    <tr style=\"text-align: right;\">\n",
       "      <th></th>\n",
       "      <th>query1</th>\n",
       "      <th>query2</th>\n",
       "      <th>query3</th>\n",
       "      <th>query4</th>\n",
       "      <th>query5</th>\n",
       "      <th>query6</th>\n",
       "      <th>query7</th>\n",
       "      <th>query8</th>\n",
       "      <th>query9</th>\n",
       "      <th>query10</th>\n",
       "      <th>...</th>\n",
       "      <th>query43</th>\n",
       "      <th>query44</th>\n",
       "      <th>query45</th>\n",
       "      <th>lag_1</th>\n",
       "      <th>lag_2</th>\n",
       "      <th>lag_3</th>\n",
       "      <th>lag_4</th>\n",
       "      <th>lag_5</th>\n",
       "      <th>lag_6</th>\n",
       "      <th>lag_7</th>\n",
       "    </tr>\n",
       "  </thead>\n",
       "  <tbody>\n",
       "    <tr>\n",
       "      <th>0</th>\n",
       "      <td>1.853</td>\n",
       "      <td>6.679</td>\n",
       "      <td>7.824</td>\n",
       "      <td>1.072</td>\n",
       "      <td>2.399</td>\n",
       "      <td>1.623</td>\n",
       "      <td>0.162</td>\n",
       "      <td>0.606</td>\n",
       "      <td>0.731</td>\n",
       "      <td>0.145</td>\n",
       "      <td>...</td>\n",
       "      <td>0.204</td>\n",
       "      <td>2.097</td>\n",
       "      <td>2.905</td>\n",
       "      <td>0.000000</td>\n",
       "      <td>0.000000</td>\n",
       "      <td>0.000000</td>\n",
       "      <td>0.000000</td>\n",
       "      <td>0.000000</td>\n",
       "      <td>0.000000</td>\n",
       "      <td>0.000000</td>\n",
       "    </tr>\n",
       "    <tr>\n",
       "      <th>1</th>\n",
       "      <td>1.976</td>\n",
       "      <td>6.310</td>\n",
       "      <td>8.259</td>\n",
       "      <td>1.194</td>\n",
       "      <td>2.733</td>\n",
       "      <td>1.589</td>\n",
       "      <td>0.167</td>\n",
       "      <td>0.607</td>\n",
       "      <td>0.662</td>\n",
       "      <td>0.185</td>\n",
       "      <td>...</td>\n",
       "      <td>0.225</td>\n",
       "      <td>2.233</td>\n",
       "      <td>2.713</td>\n",
       "      <td>0.884021</td>\n",
       "      <td>0.000000</td>\n",
       "      <td>0.000000</td>\n",
       "      <td>0.000000</td>\n",
       "      <td>0.000000</td>\n",
       "      <td>0.000000</td>\n",
       "      <td>0.000000</td>\n",
       "    </tr>\n",
       "    <tr>\n",
       "      <th>2</th>\n",
       "      <td>2.834</td>\n",
       "      <td>6.911</td>\n",
       "      <td>9.009</td>\n",
       "      <td>1.228</td>\n",
       "      <td>3.304</td>\n",
       "      <td>1.581</td>\n",
       "      <td>0.221</td>\n",
       "      <td>0.664</td>\n",
       "      <td>0.783</td>\n",
       "      <td>0.259</td>\n",
       "      <td>...</td>\n",
       "      <td>0.201</td>\n",
       "      <td>2.305</td>\n",
       "      <td>2.874</td>\n",
       "      <td>1.027731</td>\n",
       "      <td>0.884021</td>\n",
       "      <td>0.000000</td>\n",
       "      <td>0.000000</td>\n",
       "      <td>0.000000</td>\n",
       "      <td>0.000000</td>\n",
       "      <td>0.000000</td>\n",
       "    </tr>\n",
       "    <tr>\n",
       "      <th>3</th>\n",
       "      <td>3.501</td>\n",
       "      <td>7.492</td>\n",
       "      <td>9.611</td>\n",
       "      <td>1.291</td>\n",
       "      <td>3.846</td>\n",
       "      <td>1.619</td>\n",
       "      <td>0.326</td>\n",
       "      <td>0.698</td>\n",
       "      <td>0.841</td>\n",
       "      <td>0.312</td>\n",
       "      <td>...</td>\n",
       "      <td>0.255</td>\n",
       "      <td>2.279</td>\n",
       "      <td>2.965</td>\n",
       "      <td>1.282964</td>\n",
       "      <td>1.027731</td>\n",
       "      <td>0.884021</td>\n",
       "      <td>0.000000</td>\n",
       "      <td>0.000000</td>\n",
       "      <td>0.000000</td>\n",
       "      <td>0.000000</td>\n",
       "    </tr>\n",
       "    <tr>\n",
       "      <th>4</th>\n",
       "      <td>3.721</td>\n",
       "      <td>7.121</td>\n",
       "      <td>9.352</td>\n",
       "      <td>1.309</td>\n",
       "      <td>3.876</td>\n",
       "      <td>1.640</td>\n",
       "      <td>0.288</td>\n",
       "      <td>0.674</td>\n",
       "      <td>0.762</td>\n",
       "      <td>0.321</td>\n",
       "      <td>...</td>\n",
       "      <td>0.271</td>\n",
       "      <td>2.317</td>\n",
       "      <td>2.986</td>\n",
       "      <td>1.326605</td>\n",
       "      <td>1.282964</td>\n",
       "      <td>1.027731</td>\n",
       "      <td>0.884021</td>\n",
       "      <td>0.000000</td>\n",
       "      <td>0.000000</td>\n",
       "      <td>0.000000</td>\n",
       "    </tr>\n",
       "    <tr>\n",
       "      <th>...</th>\n",
       "      <td>...</td>\n",
       "      <td>...</td>\n",
       "      <td>...</td>\n",
       "      <td>...</td>\n",
       "      <td>...</td>\n",
       "      <td>...</td>\n",
       "      <td>...</td>\n",
       "      <td>...</td>\n",
       "      <td>...</td>\n",
       "      <td>...</td>\n",
       "      <td>...</td>\n",
       "      <td>...</td>\n",
       "      <td>...</td>\n",
       "      <td>...</td>\n",
       "      <td>...</td>\n",
       "      <td>...</td>\n",
       "      <td>...</td>\n",
       "      <td>...</td>\n",
       "      <td>...</td>\n",
       "      <td>...</td>\n",
       "      <td>...</td>\n",
       "    </tr>\n",
       "    <tr>\n",
       "      <th>237</th>\n",
       "      <td>2.683</td>\n",
       "      <td>8.227</td>\n",
       "      <td>11.683</td>\n",
       "      <td>1.636</td>\n",
       "      <td>2.690</td>\n",
       "      <td>2.322</td>\n",
       "      <td>0.241</td>\n",
       "      <td>0.858</td>\n",
       "      <td>0.933</td>\n",
       "      <td>0.292</td>\n",
       "      <td>...</td>\n",
       "      <td>0.281</td>\n",
       "      <td>2.707</td>\n",
       "      <td>1.569</td>\n",
       "      <td>1.311296</td>\n",
       "      <td>1.652751</td>\n",
       "      <td>2.033656</td>\n",
       "      <td>2.692446</td>\n",
       "      <td>3.215218</td>\n",
       "      <td>3.832486</td>\n",
       "      <td>4.532340</td>\n",
       "    </tr>\n",
       "    <tr>\n",
       "      <th>238</th>\n",
       "      <td>2.290</td>\n",
       "      <td>7.648</td>\n",
       "      <td>10.502</td>\n",
       "      <td>1.435</td>\n",
       "      <td>2.359</td>\n",
       "      <td>2.239</td>\n",
       "      <td>0.165</td>\n",
       "      <td>0.769</td>\n",
       "      <td>0.850</td>\n",
       "      <td>0.225</td>\n",
       "      <td>...</td>\n",
       "      <td>0.254</td>\n",
       "      <td>2.568</td>\n",
       "      <td>1.510</td>\n",
       "      <td>1.165197</td>\n",
       "      <td>1.311296</td>\n",
       "      <td>1.652751</td>\n",
       "      <td>2.033656</td>\n",
       "      <td>2.692446</td>\n",
       "      <td>3.215218</td>\n",
       "      <td>3.832486</td>\n",
       "    </tr>\n",
       "    <tr>\n",
       "      <th>239</th>\n",
       "      <td>1.766</td>\n",
       "      <td>7.375</td>\n",
       "      <td>10.081</td>\n",
       "      <td>1.258</td>\n",
       "      <td>2.031</td>\n",
       "      <td>2.194</td>\n",
       "      <td>0.142</td>\n",
       "      <td>0.735</td>\n",
       "      <td>0.775</td>\n",
       "      <td>0.214</td>\n",
       "      <td>...</td>\n",
       "      <td>0.237</td>\n",
       "      <td>2.480</td>\n",
       "      <td>1.468</td>\n",
       "      <td>1.020348</td>\n",
       "      <td>1.165197</td>\n",
       "      <td>1.311296</td>\n",
       "      <td>1.652751</td>\n",
       "      <td>2.033656</td>\n",
       "      <td>2.692446</td>\n",
       "      <td>3.215218</td>\n",
       "    </tr>\n",
       "    <tr>\n",
       "      <th>240</th>\n",
       "      <td>1.446</td>\n",
       "      <td>7.132</td>\n",
       "      <td>9.531</td>\n",
       "      <td>1.097</td>\n",
       "      <td>1.930</td>\n",
       "      <td>2.190</td>\n",
       "      <td>0.114</td>\n",
       "      <td>0.654</td>\n",
       "      <td>0.657</td>\n",
       "      <td>0.188</td>\n",
       "      <td>...</td>\n",
       "      <td>0.269</td>\n",
       "      <td>2.436</td>\n",
       "      <td>1.378</td>\n",
       "      <td>0.877607</td>\n",
       "      <td>1.020348</td>\n",
       "      <td>1.165197</td>\n",
       "      <td>1.311296</td>\n",
       "      <td>1.652751</td>\n",
       "      <td>2.033656</td>\n",
       "      <td>2.692446</td>\n",
       "    </tr>\n",
       "    <tr>\n",
       "      <th>241</th>\n",
       "      <td>1.317</td>\n",
       "      <td>6.807</td>\n",
       "      <td>9.315</td>\n",
       "      <td>1.000</td>\n",
       "      <td>1.752</td>\n",
       "      <td>2.551</td>\n",
       "      <td>0.126</td>\n",
       "      <td>0.619</td>\n",
       "      <td>0.672</td>\n",
       "      <td>0.168</td>\n",
       "      <td>...</td>\n",
       "      <td>0.259</td>\n",
       "      <td>2.470</td>\n",
       "      <td>1.423</td>\n",
       "      <td>0.825107</td>\n",
       "      <td>0.877607</td>\n",
       "      <td>1.020348</td>\n",
       "      <td>1.165197</td>\n",
       "      <td>1.311296</td>\n",
       "      <td>1.652751</td>\n",
       "      <td>2.033656</td>\n",
       "    </tr>\n",
       "  </tbody>\n",
       "</table>\n",
       "<p>242 rows × 52 columns</p>\n",
       "</div>"
      ],
      "text/plain": [
       "     query1  query2  query3  query4  query5  query6  query7  query8  query9  \\\n",
       "0     1.853   6.679   7.824   1.072   2.399   1.623   0.162   0.606   0.731   \n",
       "1     1.976   6.310   8.259   1.194   2.733   1.589   0.167   0.607   0.662   \n",
       "2     2.834   6.911   9.009   1.228   3.304   1.581   0.221   0.664   0.783   \n",
       "3     3.501   7.492   9.611   1.291   3.846   1.619   0.326   0.698   0.841   \n",
       "4     3.721   7.121   9.352   1.309   3.876   1.640   0.288   0.674   0.762   \n",
       "..      ...     ...     ...     ...     ...     ...     ...     ...     ...   \n",
       "237   2.683   8.227  11.683   1.636   2.690   2.322   0.241   0.858   0.933   \n",
       "238   2.290   7.648  10.502   1.435   2.359   2.239   0.165   0.769   0.850   \n",
       "239   1.766   7.375  10.081   1.258   2.031   2.194   0.142   0.735   0.775   \n",
       "240   1.446   7.132   9.531   1.097   1.930   2.190   0.114   0.654   0.657   \n",
       "241   1.317   6.807   9.315   1.000   1.752   2.551   0.126   0.619   0.672   \n",
       "\n",
       "     query10  ...  query43  query44  query45     lag_1     lag_2     lag_3  \\\n",
       "0      0.145  ...    0.204    2.097    2.905  0.000000  0.000000  0.000000   \n",
       "1      0.185  ...    0.225    2.233    2.713  0.884021  0.000000  0.000000   \n",
       "2      0.259  ...    0.201    2.305    2.874  1.027731  0.884021  0.000000   \n",
       "3      0.312  ...    0.255    2.279    2.965  1.282964  1.027731  0.884021   \n",
       "4      0.321  ...    0.271    2.317    2.986  1.326605  1.282964  1.027731   \n",
       "..       ...  ...      ...      ...      ...       ...       ...       ...   \n",
       "237    0.292  ...    0.281    2.707    1.569  1.311296  1.652751  2.033656   \n",
       "238    0.225  ...    0.254    2.568    1.510  1.165197  1.311296  1.652751   \n",
       "239    0.214  ...    0.237    2.480    1.468  1.020348  1.165197  1.311296   \n",
       "240    0.188  ...    0.269    2.436    1.378  0.877607  1.020348  1.165197   \n",
       "241    0.168  ...    0.259    2.470    1.423  0.825107  0.877607  1.020348   \n",
       "\n",
       "        lag_4     lag_5     lag_6     lag_7  \n",
       "0    0.000000  0.000000  0.000000  0.000000  \n",
       "1    0.000000  0.000000  0.000000  0.000000  \n",
       "2    0.000000  0.000000  0.000000  0.000000  \n",
       "3    0.000000  0.000000  0.000000  0.000000  \n",
       "4    0.884021  0.000000  0.000000  0.000000  \n",
       "..        ...       ...       ...       ...  \n",
       "237  2.692446  3.215218  3.832486  4.532340  \n",
       "238  2.033656  2.692446  3.215218  3.832486  \n",
       "239  1.652751  2.033656  2.692446  3.215218  \n",
       "240  1.311296  1.652751  2.033656  2.692446  \n",
       "241  1.165197  1.311296  1.652751  2.033656  \n",
       "\n",
       "[242 rows x 52 columns]"
      ]
     },
     "execution_count": 133,
     "metadata": {},
     "output_type": "execute_result"
    }
   ],
   "source": [
    "X"
   ]
  },
  {
   "cell_type": "code",
   "execution_count": 99,
   "metadata": {
    "ExecuteTime": {
     "end_time": "2021-02-23T05:57:53.292925Z",
     "start_time": "2021-02-23T05:57:53.069272Z"
    }
   },
   "outputs": [
    {
     "name": "stdout",
     "output_type": "stream",
     "text": [
      "最佳 alpha: 0.06455398\n",
      "最佳 l1_ratio: 0.500\n",
      "迭代次数 63\n"
     ]
    }
   ],
   "source": [
    "N = 50\n",
    "X_train = X.iloc[:N,]\n",
    "X_test = X.iloc[N:,]\n",
    "y_train = y[:N]\n",
    "y_test = y[N:]\n",
    "\n",
    "# 利用弹性网络\n",
    "from sklearn.model_selection import cross_val_score\n",
    "cv_model = ElasticNetCV(l1_ratio=0.5, eps=1e-3, n_alphas=200, fit_intercept=True, \n",
    "                        normalize=True, precompute='auto', max_iter=200, tol=0.006, cv=10, \n",
    "                        copy_X=True, verbose=0, n_jobs=-1, positive=False, random_state=0)\n",
    "\n",
    "# 训练模型              \n",
    "cv_model.fit(X_train, y_train)\n",
    "\n",
    "# 计算最佳迭代次数、alpha和ratio\n",
    "print('最佳 alpha: %.8f'%cv_model.alpha_)\n",
    "print('最佳 l1_ratio: %.3f'%cv_model.l1_ratio_)\n",
    "print('迭代次数 %d'%cv_model.n_iter_)"
   ]
  },
  {
   "cell_type": "code",
   "execution_count": 102,
   "metadata": {
    "ExecuteTime": {
     "end_time": "2021-02-23T05:58:35.598117Z",
     "start_time": "2021-02-23T05:58:35.589316Z"
    }
   },
   "outputs": [
    {
     "name": "stdout",
     "output_type": "stream",
     "text": [
      "Train r2 score:  0.899526504124001\n",
      "Test r2 score:  0.8509986476456004\n",
      "Train RMSE: 0.4792\n",
      "Test RMSE: 0.4345\n"
     ]
    }
   ],
   "source": [
    "# 输出结果\n",
    "y_train_pred = cv_model.predict(X_train)\n",
    "y_pred = cv_model.predict(X_test)\n",
    "print('Train r2 score: ', r2_score(y_train_pred, y_train))\n",
    "print('Test r2 score: ', r2_score(y_test, y_pred))\n",
    "train_mse = mean_squared_error(y_train_pred, y_train)\n",
    "test_mse = mean_squared_error(y_pred, y_test)\n",
    "train_rmse = np.sqrt(train_mse)\n",
    "test_rmse = np.sqrt(test_mse)\n",
    "print('Train RMSE: %.4f' % train_rmse)\n",
    "print('Test RMSE: %.4f' % test_rmse)"
   ]
  },
  {
   "cell_type": "code",
   "execution_count": 103,
   "metadata": {
    "ExecuteTime": {
     "end_time": "2021-02-23T05:59:50.425915Z",
     "start_time": "2021-02-23T05:59:50.275688Z"
    }
   },
   "outputs": [
    {
     "data": {
      "image/png": "[encoded data removed]",
      "text/plain": [
       "<Figure size 1080x360 with 1 Axes>"
      ]
     },
     "metadata": {},
     "output_type": "display_data"
    }
   ],
   "source": [
    "import datetime\n",
    "plt.style.use('ggplot')\n",
    "\n",
    "plt.rcParams.update({'figure.figsize': (15, 5)})\n",
    "\n",
    "plt.plot(date, y)\n",
    "plt.plot(date[N:], y_pred)\n",
    "\n",
    "plt.show()"
   ]
  },
  {
   "cell_type": "markdown",
   "metadata": {},
   "source": [
    "However, this apparent success story eventually turned into an embarrassment. \n",
    "\n",
    "1. Google Flu Trends with all its data, machine learning, and powerful computing did not dramatically outperform a simple and easier-to-understand heuristic. This suggests that when evaluating any forecast or nowcast, it is important to compare against a baseline.\n",
    "2. Its ability to predict the CDC flu data was prone to short-term failure and long-term decay because of drift and algorithmic confounding. \n",
    "\n",
    "These two caveats complicate future nowcasting efforts, but they do not doom them. In fact, by using more careful methods, Lazer et al. (2014) and Yang, Santillana, and Kou (2015) were able to avoid these two problems."
   ]
  },
  {
   "cell_type": "markdown",
   "metadata": {},
   "source": [
    "## References\n",
    "\n",
    "\n",
    "- Goel, Sharad, Jake M. Hofman, Sébastien Lahaie, David M. Pennock, and Duncan J. Watts. 2010. “Predicting Consumer Behavior with Web Search.” Proceedings of the National Academy of Sciences of the USA 107 (41):17486–90. https://doi.org/10.1073/pnas.1005962107.\n",
    "\n",
    "- Yang, Shihao, Mauricio Santillana, and S. C. Kou. 2015. “Accurate Estimation of Influenza Epidemics Using Google Search Data via ARGO.” Proceedings of the National Academy of Sciences of the USA 112 (47):14473–8. https://doi.org/10.1073/pnas.1515373112.\n",
    "\n",
    "- Lazer, David, Ryan Kennedy, Gary King, and Alessandro Vespignani. 2014. “The Parable of Google Flu: Traps in Big Data Analysis.” Science 343 (6176):1203–5. https://doi.org/10.1126/science.1248506."
   ]
  },
  {
   "cell_type": "markdown",
   "metadata": {},
   "source": [
    "## Learning by Doing\n",
    "\n",
    "https://github.com/JEstebanMejiaV/The.Analytics.Edge/blob/352d59a27d2c376f268b1dbdf838e9ee77989d36/Unit%202%20-%20Linear%20Regression/Detecting%20Flu%20Epidemics%20via%20Search%20Engine%20Query%20Data.ipynb"
   ]
  },
  {
   "cell_type": "code",
   "execution_count": 86,
   "metadata": {
    "ExecuteTime": {
     "end_time": "2021-02-23T05:18:59.014440Z",
     "start_time": "2021-02-23T05:18:59.001711Z"
    }
   },
   "outputs": [
    {
     "data": {
      "text/html": [
       "<div>\n",
       "<style scoped>\n",
       "    .dataframe tbody tr th:only-of-type {\n",
       "        vertical-align: middle;\n",
       "    }\n",
       "\n",
       "    .dataframe tbody tr th {\n",
       "        vertical-align: top;\n",
       "    }\n",
       "\n",
       "    .dataframe thead th {\n",
       "        text-align: right;\n",
       "    }\n",
       "</style>\n",
       "<table border=\"1\" class=\"dataframe\">\n",
       "  <thead>\n",
       "    <tr style=\"text-align: right;\">\n",
       "      <th></th>\n",
       "      <th>Week</th>\n",
       "      <th>ILI</th>\n",
       "      <th>Queries</th>\n",
       "    </tr>\n",
       "  </thead>\n",
       "  <tbody>\n",
       "    <tr>\n",
       "      <th>0</th>\n",
       "      <td>2004-01-04 - 2004-01-10</td>\n",
       "      <td>2.418331</td>\n",
       "      <td>0.237716</td>\n",
       "    </tr>\n",
       "    <tr>\n",
       "      <th>1</th>\n",
       "      <td>2004-01-11 - 2004-01-17</td>\n",
       "      <td>1.809056</td>\n",
       "      <td>0.220452</td>\n",
       "    </tr>\n",
       "    <tr>\n",
       "      <th>2</th>\n",
       "      <td>2004-01-18 - 2004-01-24</td>\n",
       "      <td>1.712024</td>\n",
       "      <td>0.225764</td>\n",
       "    </tr>\n",
       "    <tr>\n",
       "      <th>3</th>\n",
       "      <td>2004-01-25 - 2004-01-31</td>\n",
       "      <td>1.542495</td>\n",
       "      <td>0.237716</td>\n",
       "    </tr>\n",
       "    <tr>\n",
       "      <th>4</th>\n",
       "      <td>2004-02-01 - 2004-02-07</td>\n",
       "      <td>1.437868</td>\n",
       "      <td>0.224436</td>\n",
       "    </tr>\n",
       "  </tbody>\n",
       "</table>\n",
       "</div>"
      ],
      "text/plain": [
       "                      Week       ILI   Queries\n",
       "0  2004-01-04 - 2004-01-10  2.418331  0.237716\n",
       "1  2004-01-11 - 2004-01-17  1.809056  0.220452\n",
       "2  2004-01-18 - 2004-01-24  1.712024  0.225764\n",
       "3  2004-01-25 - 2004-01-31  1.542495  0.237716\n",
       "4  2004-02-01 - 2004-02-07  1.437868  0.224436"
      ]
     },
     "execution_count": 86,
     "metadata": {},
     "output_type": "execute_result"
    }
   ],
   "source": [
    "dat = pd.read_csv('FluTrain.csv')\n",
    "dat.head()"
   ]
  },
  {
   "cell_type": "code",
   "execution_count": 88,
   "metadata": {
    "ExecuteTime": {
     "end_time": "2021-02-23T05:19:12.565639Z",
     "start_time": "2021-02-23T05:19:12.559924Z"
    }
   },
   "outputs": [
    {
     "data": {
      "text/plain": [
       "0      2004-01-04 - 2004-01-10\n",
       "1      2004-01-11 - 2004-01-17\n",
       "2      2004-01-18 - 2004-01-24\n",
       "3      2004-01-25 - 2004-01-31\n",
       "4      2004-02-01 - 2004-02-07\n",
       "                ...           \n",
       "412    2011-11-27 - 2011-12-03\n",
       "413    2011-12-04 - 2011-12-10\n",
       "414    2011-12-11 - 2011-12-17\n",
       "415    2011-12-18 - 2011-12-24\n",
       "416    2011-12-25 - 2011-12-31\n",
       "Name: Week, Length: 417, dtype: object"
      ]
     },
     "execution_count": 88,
     "metadata": {},
     "output_type": "execute_result"
    }
   ],
   "source": [
    "dat['Week']"
   ]
  },
  {
   "cell_type": "code",
   "execution_count": 104,
   "metadata": {
    "ExecuteTime": {
     "end_time": "2021-02-23T06:01:23.913604Z",
     "start_time": "2021-02-23T06:01:23.904355Z"
    }
   },
   "outputs": [
    {
     "name": "stdout",
     "output_type": "stream",
     "text": [
      "done\n"
     ]
    }
   ],
   "source": [
    "for i in range(1, 8):\n",
    "    dat[\"lag_{}\".format(i)] = dat['ILI'].shift(i)\n",
    "print(\"done\")\n",
    "dat=dat.fillna(0)"
   ]
  },
  {
   "cell_type": "code",
   "execution_count": 128,
   "metadata": {
    "ExecuteTime": {
     "end_time": "2021-02-23T06:06:52.620092Z",
     "start_time": "2021-02-23T06:06:52.614910Z"
    }
   },
   "outputs": [],
   "source": [
    "y = dat['ILI']\n",
    "week = dat['Week']\n",
    "week = [i[:10] for i in week.tolist()]\n",
    "week = pd.to_datetime(week)\n",
    "X = dat.drop(['ILI', 'Week'], axis = 1)"
   ]
  },
  {
   "cell_type": "code",
   "execution_count": 130,
   "metadata": {
    "ExecuteTime": {
     "end_time": "2021-02-23T06:08:28.271674Z",
     "start_time": "2021-02-23T06:08:28.266786Z"
    }
   },
   "outputs": [
    {
     "data": {
      "text/plain": [
       "0      2.418331\n",
       "1      1.809056\n",
       "2      1.712024\n",
       "3      1.542495\n",
       "4      1.437868\n",
       "         ...   \n",
       "412    1.465723\n",
       "413    1.518106\n",
       "414    1.663954\n",
       "415    1.852736\n",
       "416    2.124130\n",
       "Name: ILI, Length: 417, dtype: float64"
      ]
     },
     "execution_count": 130,
     "metadata": {},
     "output_type": "execute_result"
    }
   ],
   "source": [
    "y"
   ]
  },
  {
   "cell_type": "code",
   "execution_count": 109,
   "metadata": {
    "ExecuteTime": {
     "end_time": "2021-02-23T06:03:15.386111Z",
     "start_time": "2021-02-23T06:03:15.372378Z"
    }
   },
   "outputs": [
    {
     "data": {
      "text/html": [
       "<div>\n",
       "<style scoped>\n",
       "    .dataframe tbody tr th:only-of-type {\n",
       "        vertical-align: middle;\n",
       "    }\n",
       "\n",
       "    .dataframe tbody tr th {\n",
       "        vertical-align: top;\n",
       "    }\n",
       "\n",
       "    .dataframe thead th {\n",
       "        text-align: right;\n",
       "    }\n",
       "</style>\n",
       "<table border=\"1\" class=\"dataframe\">\n",
       "  <thead>\n",
       "    <tr style=\"text-align: right;\">\n",
       "      <th></th>\n",
       "      <th>Queries</th>\n",
       "      <th>lag_1</th>\n",
       "      <th>lag_2</th>\n",
       "      <th>lag_3</th>\n",
       "      <th>lag_4</th>\n",
       "      <th>lag_5</th>\n",
       "      <th>lag_6</th>\n",
       "      <th>lag_7</th>\n",
       "    </tr>\n",
       "  </thead>\n",
       "  <tbody>\n",
       "    <tr>\n",
       "      <th>0</th>\n",
       "      <td>0.237716</td>\n",
       "      <td>0.000000</td>\n",
       "      <td>0.000000</td>\n",
       "      <td>0.000000</td>\n",
       "      <td>0.000000</td>\n",
       "      <td>0.000000</td>\n",
       "      <td>0.000000</td>\n",
       "      <td>0.000000</td>\n",
       "    </tr>\n",
       "    <tr>\n",
       "      <th>1</th>\n",
       "      <td>0.220452</td>\n",
       "      <td>2.418331</td>\n",
       "      <td>0.000000</td>\n",
       "      <td>0.000000</td>\n",
       "      <td>0.000000</td>\n",
       "      <td>0.000000</td>\n",
       "      <td>0.000000</td>\n",
       "      <td>0.000000</td>\n",
       "    </tr>\n",
       "    <tr>\n",
       "      <th>2</th>\n",
       "      <td>0.225764</td>\n",
       "      <td>1.809056</td>\n",
       "      <td>2.418331</td>\n",
       "      <td>0.000000</td>\n",
       "      <td>0.000000</td>\n",
       "      <td>0.000000</td>\n",
       "      <td>0.000000</td>\n",
       "      <td>0.000000</td>\n",
       "    </tr>\n",
       "    <tr>\n",
       "      <th>3</th>\n",
       "      <td>0.237716</td>\n",
       "      <td>1.712024</td>\n",
       "      <td>1.809056</td>\n",
       "      <td>2.418331</td>\n",
       "      <td>0.000000</td>\n",
       "      <td>0.000000</td>\n",
       "      <td>0.000000</td>\n",
       "      <td>0.000000</td>\n",
       "    </tr>\n",
       "    <tr>\n",
       "      <th>4</th>\n",
       "      <td>0.224436</td>\n",
       "      <td>1.542495</td>\n",
       "      <td>1.712024</td>\n",
       "      <td>1.809056</td>\n",
       "      <td>2.418331</td>\n",
       "      <td>0.000000</td>\n",
       "      <td>0.000000</td>\n",
       "      <td>0.000000</td>\n",
       "    </tr>\n",
       "    <tr>\n",
       "      <th>...</th>\n",
       "      <td>...</td>\n",
       "      <td>...</td>\n",
       "      <td>...</td>\n",
       "      <td>...</td>\n",
       "      <td>...</td>\n",
       "      <td>...</td>\n",
       "      <td>...</td>\n",
       "      <td>...</td>\n",
       "    </tr>\n",
       "    <tr>\n",
       "      <th>412</th>\n",
       "      <td>0.478088</td>\n",
       "      <td>1.655415</td>\n",
       "      <td>1.462212</td>\n",
       "      <td>1.440892</td>\n",
       "      <td>1.452843</td>\n",
       "      <td>1.305461</td>\n",
       "      <td>1.252586</td>\n",
       "      <td>1.236957</td>\n",
       "    </tr>\n",
       "    <tr>\n",
       "      <th>413</th>\n",
       "      <td>0.464807</td>\n",
       "      <td>1.465723</td>\n",
       "      <td>1.655415</td>\n",
       "      <td>1.462212</td>\n",
       "      <td>1.440892</td>\n",
       "      <td>1.452843</td>\n",
       "      <td>1.305461</td>\n",
       "      <td>1.252586</td>\n",
       "    </tr>\n",
       "    <tr>\n",
       "      <th>414</th>\n",
       "      <td>0.479416</td>\n",
       "      <td>1.518106</td>\n",
       "      <td>1.465723</td>\n",
       "      <td>1.655415</td>\n",
       "      <td>1.462212</td>\n",
       "      <td>1.440892</td>\n",
       "      <td>1.452843</td>\n",
       "      <td>1.305461</td>\n",
       "    </tr>\n",
       "    <tr>\n",
       "      <th>415</th>\n",
       "      <td>0.537849</td>\n",
       "      <td>1.663954</td>\n",
       "      <td>1.518106</td>\n",
       "      <td>1.465723</td>\n",
       "      <td>1.655415</td>\n",
       "      <td>1.462212</td>\n",
       "      <td>1.440892</td>\n",
       "      <td>1.452843</td>\n",
       "    </tr>\n",
       "    <tr>\n",
       "      <th>416</th>\n",
       "      <td>0.618858</td>\n",
       "      <td>1.852736</td>\n",
       "      <td>1.663954</td>\n",
       "      <td>1.518106</td>\n",
       "      <td>1.465723</td>\n",
       "      <td>1.655415</td>\n",
       "      <td>1.462212</td>\n",
       "      <td>1.440892</td>\n",
       "    </tr>\n",
       "  </tbody>\n",
       "</table>\n",
       "<p>417 rows × 8 columns</p>\n",
       "</div>"
      ],
      "text/plain": [
       "      Queries     lag_1     lag_2     lag_3     lag_4     lag_5     lag_6  \\\n",
       "0    0.237716  0.000000  0.000000  0.000000  0.000000  0.000000  0.000000   \n",
       "1    0.220452  2.418331  0.000000  0.000000  0.000000  0.000000  0.000000   \n",
       "2    0.225764  1.809056  2.418331  0.000000  0.000000  0.000000  0.000000   \n",
       "3    0.237716  1.712024  1.809056  2.418331  0.000000  0.000000  0.000000   \n",
       "4    0.224436  1.542495  1.712024  1.809056  2.418331  0.000000  0.000000   \n",
       "..        ...       ...       ...       ...       ...       ...       ...   \n",
       "412  0.478088  1.655415  1.462212  1.440892  1.452843  1.305461  1.252586   \n",
       "413  0.464807  1.465723  1.655415  1.462212  1.440892  1.452843  1.305461   \n",
       "414  0.479416  1.518106  1.465723  1.655415  1.462212  1.440892  1.452843   \n",
       "415  0.537849  1.663954  1.518106  1.465723  1.655415  1.462212  1.440892   \n",
       "416  0.618858  1.852736  1.663954  1.518106  1.465723  1.655415  1.462212   \n",
       "\n",
       "        lag_7  \n",
       "0    0.000000  \n",
       "1    0.000000  \n",
       "2    0.000000  \n",
       "3    0.000000  \n",
       "4    0.000000  \n",
       "..        ...  \n",
       "412  1.236957  \n",
       "413  1.252586  \n",
       "414  1.305461  \n",
       "415  1.452843  \n",
       "416  1.440892  \n",
       "\n",
       "[417 rows x 8 columns]"
      ]
     },
     "execution_count": 109,
     "metadata": {},
     "output_type": "execute_result"
    }
   ],
   "source": [
    "X"
   ]
  },
  {
   "cell_type": "code",
   "execution_count": 110,
   "metadata": {
    "ExecuteTime": {
     "end_time": "2021-02-23T06:03:25.130871Z",
     "start_time": "2021-02-23T06:03:24.804493Z"
    }
   },
   "outputs": [
    {
     "name": "stdout",
     "output_type": "stream",
     "text": [
      "最佳 alpha: 0.00034012\n",
      "最佳 l1_ratio: 0.500\n",
      "迭代次数 15\n"
     ]
    }
   ],
   "source": [
    "N = 100\n",
    "X_train = X.iloc[:N,]\n",
    "X_test = X.iloc[N:,]\n",
    "y_train = y[:N]\n",
    "y_test = y[N:]\n",
    "\n",
    "# 利用弹性网络\n",
    "from sklearn.model_selection import cross_val_score\n",
    "cv_model = ElasticNetCV(l1_ratio=0.5, eps=1e-3, n_alphas=200, fit_intercept=True, \n",
    "                        normalize=True, precompute='auto', max_iter=200, tol=0.006, cv=10, \n",
    "                        copy_X=True, verbose=0, n_jobs=-1, positive=False, random_state=0)\n",
    "\n",
    "# 训练模型              \n",
    "cv_model.fit(X_train, y_train)\n",
    "\n",
    "# 计算最佳迭代次数、alpha和ratio\n",
    "print('最佳 alpha: %.8f'%cv_model.alpha_)\n",
    "print('最佳 l1_ratio: %.3f'%cv_model.l1_ratio_)\n",
    "print('迭代次数 %d'%cv_model.n_iter_)"
   ]
  },
  {
   "cell_type": "code",
   "execution_count": 111,
   "metadata": {
    "ExecuteTime": {
     "end_time": "2021-02-23T06:03:28.444991Z",
     "start_time": "2021-02-23T06:03:28.436914Z"
    }
   },
   "outputs": [
    {
     "name": "stdout",
     "output_type": "stream",
     "text": [
      "Train r2 score:  0.8704190473192481\n",
      "Test r2 score:  0.9216895094890315\n",
      "Train RMSE: 0.2868\n",
      "Test RMSE: 0.3293\n"
     ]
    }
   ],
   "source": [
    "# 输出结果\n",
    "y_train_pred = cv_model.predict(X_train)\n",
    "y_pred = cv_model.predict(X_test)\n",
    "print('Train r2 score: ', r2_score(y_train_pred, y_train))\n",
    "print('Test r2 score: ', r2_score(y_test, y_pred))\n",
    "train_mse = mean_squared_error(y_train_pred, y_train)\n",
    "test_mse = mean_squared_error(y_pred, y_test)\n",
    "train_rmse = np.sqrt(train_mse)\n",
    "test_rmse = np.sqrt(test_mse)\n",
    "print('Train RMSE: %.4f' % train_rmse)\n",
    "print('Test RMSE: %.4f' % test_rmse)"
   ]
  },
  {
   "cell_type": "code",
   "execution_count": 129,
   "metadata": {
    "ExecuteTime": {
     "end_time": "2021-02-23T06:07:03.727620Z",
     "start_time": "2021-02-23T06:07:03.565619Z"
    }
   },
   "outputs": [
    {
     "data": {
      "image/png": "[encoded data removed]",
      "text/plain": [
       "<Figure size 1080x360 with 1 Axes>"
      ]
     },
     "metadata": {},
     "output_type": "display_data"
    }
   ],
   "source": [
    "plt.plot(week, y)\n",
    "plt.plot(week[N:], y_pred)\n",
    "plt.show()"
   ]
  },
  {
   "cell_type": "code",
   "execution_count": null,
   "metadata": {},
   "outputs": [],
   "source": []
  }
 ],
 "metadata": {
  "kernelspec": {
   "display_name": "Python 3",
   "language": "python",
   "name": "python3"
  },
  "language_info": {
   "codemirror_mode": {
    "name": "ipython",
    "version": 3
   },
   "file_extension": ".py",
   "mimetype": "text/x-python",
   "name": "python",
   "nbconvert_exporter": "python",
   "pygments_lexer": "ipython3",
   "version": "3.7.6"
  },
  "toc": {
   "base_numbering": 1,
   "nav_menu": {},
   "number_sections": false,
   "sideBar": true,
   "skip_h1_title": false,
   "title_cell": "Table of Contents",
   "title_sidebar": "Contents",
   "toc_cell": false,
   "toc_position": {},
   "toc_section_display": true,
   "toc_window_display": true
  }
 },
 "nbformat": 4,
 "nbformat_minor": 4
}
